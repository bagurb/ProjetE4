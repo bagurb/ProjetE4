{
 "cells": [
  {
   "cell_type": "markdown",
   "metadata": {
    "id": "3XX46cTrh6iD"
   },
   "source": [
    "Copyright 2021 The TensorFlow Hub Authors.\n",
    "Licensed under the Apache License, Version 2.0 (the \"License\");"
   ]
  },
  {
   "cell_type": "code",
   "execution_count": null,
   "metadata": {
    "id": "sKrlWr6Kh-mF"
   },
   "outputs": [],
   "source": [
    "# Copyright 2021 The TensorFlow Hub Authors. All Rights Reserved.\n",
    "#\n",
    "# Licensed under the Apache License, Version 2.0 (the \"License\");\n",
    "# you may not use this file except in compliance with the License.\n",
    "# You may obtain a copy of the License at\n",
    "#\n",
    "#     http://www.apache.org/licenses/LICENSE-2.0\n",
    "#\n",
    "# Unless required by applicable law or agreed to in writing, software\n",
    "# distributed under the License is distributed on an \"AS IS\" BASIS,\n",
    "# WITHOUT WARRANTIES OR CONDITIONS OF ANY KIND, either express or implied.\n",
    "# See the License for the specific language governing permissions and\n",
    "# limitations under the License.\n",
    "# =============================================================================="
   ]
  },
  {
   "cell_type": "markdown",
   "metadata": {
    "id": "hST65kOHXpiL"
   },
   "source": [
    "# Transfer Learning for the Audio Domain with Model Maker\n",
    "\n",
    "In this notebook, you'll learn how to use Model Maker for the Audio Domain.\n",
    "\n",
    "It is part of the [Codelab to Customize an Audio model and deploy on Android](https://codelabs.developers.google.com/codelabs/tflite-audio-classification-custom-model-android).\n",
    "\n",
    "You'll use a custom birds dataset and export a TFLite model that can be used on a phone, a TensorFlow.JS model that can be used for inference in the browser and also a SavedModel version that you can use for serving.\n",
    "\n"
   ]
  },
  {
   "cell_type": "markdown",
   "metadata": {
    "id": "AeZZ_cSsZfPx"
   },
   "source": [
    "## Intalling dependencies\n",
    "\n",
    "Model Maker for the Audio domain needs TensorFlow 2.5 to work."
   ]
  },
  {
   "cell_type": "code",
   "execution_count": 9,
   "metadata": {
    "id": "wbMc4vHjaYdQ",
    "scrolled": false
   },
   "outputs": [
    {
     "name": "stdout",
     "output_type": "stream",
     "text": [
      "Collecting tflite_model_maker\n",
      "  Using cached tflite_model_maker-0.3.4-py3-none-any.whl (616 kB)\n",
      "Requirement already satisfied: Cython>=0.29.13 in c:\\users\\basti\\anaconda3\\lib\\site-packages (from tflite_model_maker) (0.29.13)\n",
      "Collecting tensorflow-model-optimization>=0.5\n",
      "  Using cached tensorflow_model_optimization-0.7.2-py2.py3-none-any.whl (237 kB)\n",
      "Collecting tf-models-official==2.3.0\n",
      "  Using cached tf_models_official-2.3.0-py2.py3-none-any.whl (840 kB)\n",
      "Requirement already satisfied: lxml>=4.6.1 in c:\\users\\basti\\anaconda3\\lib\\site-packages (from tflite_model_maker) (4.8.0)\n",
      "Requirement already satisfied: numpy>=1.17.3 in c:\\users\\basti\\appdata\\roaming\\python\\python37\\site-packages (from tflite_model_maker) (1.21.5)\n",
      "Requirement already satisfied: tensorflow-addons>=0.11.2 in c:\\users\\basti\\anaconda3\\lib\\site-packages (from tflite_model_maker) (0.16.1)\n",
      "Collecting fire>=0.3.1\n",
      "  Using cached fire-0.4.0-py2.py3-none-any.whl\n",
      "Requirement already satisfied: flatbuffers==1.12 in c:\\users\\basti\\appdata\\roaming\\python\\python37\\site-packages (from tflite_model_maker) (1.12)\n",
      "Collecting neural-structured-learning>=1.3.1\n",
      "  Using cached neural_structured_learning-1.3.1-py2.py3-none-any.whl (120 kB)\n",
      "Collecting tensorflow-datasets>=2.1.0\n",
      "  Using cached tensorflow_datasets-4.5.2-py3-none-any.whl (4.2 MB)\n",
      "Collecting tensorflowjs>=2.4.0\n",
      "  Using cached tensorflowjs-3.14.0-py3-none-any.whl (77 kB)\n",
      "Requirement already satisfied: urllib3!=1.25.0,!=1.25.1,<1.26,>=1.21.1 in c:\\users\\basti\\anaconda3\\lib\\site-packages (from tflite_model_maker) (1.25.7)\n",
      "Requirement already satisfied: tensorflow>=2.6.0 in c:\\users\\basti\\appdata\\roaming\\python\\python37\\site-packages (from tflite_model_maker) (2.7.0)\n",
      "Requirement already satisfied: sentencepiece>=0.1.91 in c:\\users\\basti\\anaconda3\\lib\\site-packages (from tflite_model_maker) (0.1.96)\n",
      "Requirement already satisfied: pillow>=7.0.0 in c:\\users\\basti\\anaconda3\\lib\\site-packages (from tflite_model_maker) (9.0.1)\n",
      "Requirement already satisfied: matplotlib<3.5.0,>=3.0.3 in c:\\users\\basti\\appdata\\roaming\\python\\python37\\site-packages (from tflite_model_maker) (3.4.3)\n",
      "Requirement already satisfied: absl-py>=0.10.0 in c:\\users\\basti\\appdata\\roaming\\python\\python37\\site-packages (from tflite_model_maker) (0.12.0)\n",
      "Requirement already satisfied: tensorflow-hub<0.13,>=0.7.0 in c:\\users\\basti\\anaconda3\\lib\\site-packages (from tflite_model_maker) (0.12.0)\n",
      "Requirement already satisfied: six>=1.12.0 in c:\\users\\basti\\appdata\\roaming\\python\\python37\\site-packages (from tflite_model_maker) (1.15.0)\n",
      "Collecting librosa==0.8.1\n",
      "  Using cached librosa-0.8.1-py3-none-any.whl (203 kB)\n",
      "Collecting numba==0.53\n",
      "  Using cached numba-0.53.0-cp37-cp37m-win_amd64.whl (2.3 MB)\n",
      "Collecting tflite-support>=0.3.1\n",
      "  Using cached tflite_support-0.3.1-cp37-cp37m-win_amd64.whl (427 kB)\n",
      "Requirement already satisfied: PyYAML>=5.1 in c:\\users\\basti\\anaconda3\\lib\\site-packages (from tflite_model_maker) (5.1.2)\n",
      "Requirement already satisfied: audioread>=2.0.0 in c:\\users\\basti\\anaconda3\\lib\\site-packages (from librosa==0.8.1->tflite_model_maker) (2.1.9)\n",
      "Requirement already satisfied: joblib>=0.14 in c:\\users\\basti\\anaconda3\\lib\\site-packages (from librosa==0.8.1->tflite_model_maker) (1.1.0)\n",
      "Requirement already satisfied: decorator>=3.0.0 in c:\\users\\basti\\anaconda3\\lib\\site-packages (from librosa==0.8.1->tflite_model_maker) (4.4.0)\n",
      "Requirement already satisfied: pooch>=1.0 in c:\\users\\basti\\anaconda3\\lib\\site-packages (from librosa==0.8.1->tflite_model_maker) (1.6.0)\n",
      "Requirement already satisfied: soundfile>=0.10.2 in c:\\users\\basti\\anaconda3\\lib\\site-packages (from librosa==0.8.1->tflite_model_maker) (0.10.3.post1)\n",
      "Requirement already satisfied: scipy>=1.0.0 in c:\\users\\basti\\appdata\\roaming\\python\\python37\\site-packages (from librosa==0.8.1->tflite_model_maker) (1.7.1)\n",
      "Requirement already satisfied: resampy>=0.2.2 in c:\\users\\basti\\anaconda3\\lib\\site-packages (from librosa==0.8.1->tflite_model_maker) (0.2.2)\n",
      "Requirement already satisfied: scikit-learn!=0.19.0,>=0.14.0 in c:\\users\\basti\\anaconda3\\lib\\site-packages (from librosa==0.8.1->tflite_model_maker) (0.21.3)\n",
      "Requirement already satisfied: packaging>=20.0 in c:\\users\\basti\\anaconda3\\lib\\site-packages (from librosa==0.8.1->tflite_model_maker) (21.3)\n",
      "Requirement already satisfied: setuptools in c:\\users\\basti\\anaconda3\\lib\\site-packages (from numba==0.53->tflite_model_maker) (41.4.0)\n",
      "Collecting llvmlite<0.37,>=0.36.0rc1\n",
      "  Using cached llvmlite-0.36.0-cp37-cp37m-win_amd64.whl (16.0 MB)\n",
      "Requirement already satisfied: py-cpuinfo>=3.3.0 in c:\\users\\basti\\anaconda3\\lib\\site-packages (from tf-models-official==2.3.0->tflite_model_maker) (8.0.0)\n",
      "Requirement already satisfied: dataclasses in c:\\users\\basti\\anaconda3\\lib\\site-packages (from tf-models-official==2.3.0->tflite_model_maker) (0.6)\n",
      "Collecting tf-slim>=1.1.0\n",
      "  Using cached tf_slim-1.1.0-py2.py3-none-any.whl (352 kB)\n",
      "Requirement already satisfied: opencv-python-headless in c:\\users\\basti\\anaconda3\\lib\\site-packages (from tf-models-official==2.3.0->tflite_model_maker) (4.5.5.64)\n",
      "Requirement already satisfied: google-api-python-client>=1.6.7 in c:\\users\\basti\\anaconda3\\lib\\site-packages (from tf-models-official==2.3.0->tflite_model_maker) (2.8.0)\n",
      "Requirement already satisfied: psutil>=5.4.3 in c:\\users\\basti\\anaconda3\\lib\\site-packages (from tf-models-official==2.3.0->tflite_model_maker) (5.6.3)\n",
      "Requirement already satisfied: pandas>=0.22.0 in c:\\users\\basti\\appdata\\roaming\\python\\python37\\site-packages (from tf-models-official==2.3.0->tflite_model_maker) (1.3.4)\n",
      "Collecting google-cloud-bigquery>=0.31.0\n",
      "  Using cached google_cloud_bigquery-2.34.2-py2.py3-none-any.whl (206 kB)\n",
      "Collecting kaggle>=1.3.9\n",
      "  Using cached kaggle-1.5.12-py3-none-any.whl\n",
      "Requirement already satisfied: gin-config in c:\\users\\basti\\anaconda3\\lib\\site-packages (from tf-models-official==2.3.0->tflite_model_maker) (0.5.0)\n",
      "Requirement already satisfied: termcolor in c:\\users\\basti\\appdata\\roaming\\python\\python37\\site-packages (from fire>=0.3.1->tflite_model_maker) (1.1.0)\n",
      "Requirement already satisfied: cycler>=0.10 in c:\\users\\basti\\anaconda3\\lib\\site-packages (from matplotlib<3.5.0,>=3.0.3->tflite_model_maker) (0.10.0)\n",
      "Requirement already satisfied: python-dateutil>=2.7 in c:\\users\\basti\\anaconda3\\lib\\site-packages (from matplotlib<3.5.0,>=3.0.3->tflite_model_maker) (2.8.0)\n",
      "Requirement already satisfied: pyparsing>=2.2.1 in c:\\users\\basti\\anaconda3\\lib\\site-packages (from matplotlib<3.5.0,>=3.0.3->tflite_model_maker) (2.4.2)\n",
      "Requirement already satisfied: kiwisolver>=1.0.1 in c:\\users\\basti\\anaconda3\\lib\\site-packages (from matplotlib<3.5.0,>=3.0.3->tflite_model_maker) (1.1.0)\n",
      "Requirement already satisfied: attrs in c:\\users\\basti\\anaconda3\\lib\\site-packages (from neural-structured-learning>=1.3.1->tflite_model_maker) (19.3.0)\n",
      "Requirement already satisfied: libclang>=9.0.1 in c:\\users\\basti\\anaconda3\\lib\\site-packages (from tensorflow>=2.6.0->tflite_model_maker) (13.0.0)\n",
      "Requirement already satisfied: astunparse>=1.6.0 in c:\\users\\basti\\appdata\\roaming\\python\\python37\\site-packages (from tensorflow>=2.6.0->tflite_model_maker) (1.6.3)\n",
      "Requirement already satisfied: tensorflow-io-gcs-filesystem>=0.21.0 in c:\\users\\basti\\anaconda3\\lib\\site-packages (from tensorflow>=2.6.0->tflite_model_maker) (0.24.0)\n",
      "Requirement already satisfied: wheel<1.0,>=0.32.0 in c:\\users\\basti\\appdata\\roaming\\python\\python37\\site-packages (from tensorflow>=2.6.0->tflite_model_maker) (0.36.2)\n",
      "Requirement already satisfied: opt-einsum>=2.3.2 in c:\\users\\basti\\appdata\\roaming\\python\\python37\\site-packages (from tensorflow>=2.6.0->tflite_model_maker) (3.3.0)\n",
      "Requirement already satisfied: tensorflow-estimator<2.8,~=2.7.0rc0 in c:\\users\\basti\\anaconda3\\lib\\site-packages (from tensorflow>=2.6.0->tflite_model_maker) (2.7.0)\n",
      "Requirement already satisfied: keras-preprocessing>=1.1.1 in c:\\users\\basti\\appdata\\roaming\\python\\python37\\site-packages (from tensorflow>=2.6.0->tflite_model_maker) (1.1.2)\n",
      "Requirement already satisfied: h5py>=2.9.0 in c:\\users\\basti\\appdata\\roaming\\python\\python37\\site-packages (from tensorflow>=2.6.0->tflite_model_maker) (2.10.0)\n",
      "Requirement already satisfied: grpcio<2.0,>=1.24.3 in c:\\users\\basti\\appdata\\roaming\\python\\python37\\site-packages (from tensorflow>=2.6.0->tflite_model_maker) (1.32.0)\n",
      "Requirement already satisfied: google-pasta>=0.1.1 in c:\\users\\basti\\appdata\\roaming\\python\\python37\\site-packages (from tensorflow>=2.6.0->tflite_model_maker) (0.2.0)\n",
      "Requirement already satisfied: tensorboard~=2.6 in c:\\users\\basti\\appdata\\roaming\\python\\python37\\site-packages (from tensorflow>=2.6.0->tflite_model_maker) (2.8.0)\n",
      "Requirement already satisfied: wrapt>=1.11.0 in c:\\users\\basti\\appdata\\roaming\\python\\python37\\site-packages (from tensorflow>=2.6.0->tflite_model_maker) (1.12.1)\n",
      "Requirement already satisfied: protobuf>=3.9.2 in c:\\users\\basti\\anaconda3\\lib\\site-packages (from tensorflow>=2.6.0->tflite_model_maker) (3.19.4)\n",
      "Requirement already satisfied: typing-extensions>=3.6.6 in c:\\users\\basti\\appdata\\roaming\\python\\python37\\site-packages (from tensorflow>=2.6.0->tflite_model_maker) (3.7.4.3)\n",
      "Requirement already satisfied: gast<0.5.0,>=0.2.1 in c:\\users\\basti\\appdata\\roaming\\python\\python37\\site-packages (from tensorflow>=2.6.0->tflite_model_maker) (0.3.3)\n",
      "Collecting keras<2.8,>=2.7.0rc0\n",
      "  Using cached keras-2.7.0-py2.py3-none-any.whl (1.3 MB)\n",
      "Requirement already satisfied: typeguard>=2.7 in c:\\users\\basti\\anaconda3\\lib\\site-packages (from tensorflow-addons>=0.11.2->tflite_model_maker) (2.13.3)\n",
      "Collecting tensorflow-metadata\n",
      "  Using cached tensorflow_metadata-1.7.0-py3-none-any.whl (48 kB)\n",
      "Requirement already satisfied: promise in c:\\users\\basti\\anaconda3\\lib\\site-packages (from tensorflow-datasets>=2.1.0->tflite_model_maker) (2.3)\n",
      "Collecting dill\n",
      "  Using cached dill-0.3.4-py2.py3-none-any.whl (86 kB)\n",
      "Collecting importlib-resources\n",
      "  Using cached importlib_resources-5.4.0-py3-none-any.whl (28 kB)\n",
      "Requirement already satisfied: requests>=2.19.0 in c:\\users\\basti\\anaconda3\\lib\\site-packages (from tensorflow-datasets>=2.1.0->tflite_model_maker) (2.22.0)\n",
      "Requirement already satisfied: tqdm in c:\\users\\basti\\anaconda3\\lib\\site-packages (from tensorflow-datasets>=2.1.0->tflite_model_maker) (4.36.1)\n",
      "Collecting dm-tree~=0.1.1\n",
      "  Using cached dm_tree-0.1.6-cp37-cp37m-win_amd64.whl (75 kB)\n",
      "Requirement already satisfied: pybind11>=2.6.0 in c:\\users\\basti\\anaconda3\\lib\\site-packages (from tflite-support>=0.3.1->tflite_model_maker) (2.9.1)\n",
      "Requirement already satisfied: google-auth<2dev,>=1.16.0 in c:\\users\\basti\\appdata\\roaming\\python\\python37\\site-packages (from google-api-python-client>=1.6.7->tf-models-official==2.3.0->tflite_model_maker) (1.27.1)\n",
      "Requirement already satisfied: google-api-core<2dev,>=1.21.0 in c:\\users\\basti\\anaconda3\\lib\\site-packages (from google-api-python-client>=1.6.7->tf-models-official==2.3.0->tflite_model_maker) (1.30.0)\n",
      "Requirement already satisfied: httplib2<1dev,>=0.15.0 in c:\\users\\basti\\anaconda3\\lib\\site-packages (from google-api-python-client>=1.6.7->tf-models-official==2.3.0->tflite_model_maker) (0.19.1)\n",
      "Requirement already satisfied: uritemplate<4dev,>=3.0.0 in c:\\users\\basti\\anaconda3\\lib\\site-packages (from google-api-python-client>=1.6.7->tf-models-official==2.3.0->tflite_model_maker) (3.0.1)\n",
      "Requirement already satisfied: google-auth-httplib2>=0.1.0 in c:\\users\\basti\\anaconda3\\lib\\site-packages (from google-api-python-client>=1.6.7->tf-models-official==2.3.0->tflite_model_maker) (0.1.0)\n",
      "Collecting google-api-core[grpc]!=2.0.*,!=2.1.*,!=2.2.*,!=2.3.0,<3.0.0dev,>=1.31.5\n",
      "  Using cached google_api_core-2.7.1-py3-none-any.whl (114 kB)\n",
      "Collecting grpcio<2.0,>=1.24.3\n",
      "  Using cached grpcio-1.44.0-cp37-cp37m-win_amd64.whl (3.4 MB)\n",
      "Collecting google-cloud-core<3.0.0dev,>=1.4.1\n",
      "  Using cached google_cloud_core-2.2.3-py2.py3-none-any.whl (29 kB)\n",
      "Collecting google-resumable-media<3.0dev,>=0.6.0\n",
      "  Using cached google_resumable_media-2.3.2-py2.py3-none-any.whl (76 kB)\n",
      "Requirement already satisfied: proto-plus>=1.15.0 in c:\\users\\basti\\anaconda3\\lib\\site-packages (from google-cloud-bigquery>=0.31.0->tf-models-official==2.3.0->tflite_model_maker) (1.20.3)\n",
      "Requirement already satisfied: certifi in c:\\users\\basti\\anaconda3\\lib\\site-packages (from kaggle>=1.3.9->tf-models-official==2.3.0->tflite_model_maker) (2019.11.28)\n",
      "Requirement already satisfied: python-slugify in c:\\users\\basti\\anaconda3\\lib\\site-packages (from kaggle>=1.3.9->tf-models-official==2.3.0->tflite_model_maker) (6.1.1)\n",
      "Requirement already satisfied: pytz>=2017.3 in c:\\users\\basti\\anaconda3\\lib\\site-packages (from pandas>=0.22.0->tf-models-official==2.3.0->tflite_model_maker) (2019.3)\n",
      "Requirement already satisfied: appdirs>=1.3.0 in c:\\users\\basti\\anaconda3\\lib\\site-packages (from pooch>=1.0->librosa==0.8.1->tflite_model_maker) (1.4.4)\n",
      "Requirement already satisfied: chardet<3.1.0,>=3.0.2 in c:\\users\\basti\\anaconda3\\lib\\site-packages (from requests>=2.19.0->tensorflow-datasets>=2.1.0->tflite_model_maker) (3.0.4)\n",
      "Requirement already satisfied: idna<2.9,>=2.5 in c:\\users\\basti\\anaconda3\\lib\\site-packages (from requests>=2.19.0->tensorflow-datasets>=2.1.0->tflite_model_maker) (2.8)\n",
      "Requirement already satisfied: cffi>=1.0 in c:\\users\\basti\\anaconda3\\lib\\site-packages (from soundfile>=0.10.2->librosa==0.8.1->tflite_model_maker) (1.12.3)\n",
      "Requirement already satisfied: werkzeug>=0.11.15 in c:\\users\\basti\\anaconda3\\lib\\site-packages (from tensorboard~=2.6->tensorflow>=2.6.0->tflite_model_maker) (0.16.0)\n",
      "Requirement already satisfied: google-auth-oauthlib<0.5,>=0.4.1 in c:\\users\\basti\\appdata\\roaming\\python\\python37\\site-packages (from tensorboard~=2.6->tensorflow>=2.6.0->tflite_model_maker) (0.4.3)\n",
      "Requirement already satisfied: tensorboard-plugin-wit>=1.6.0 in c:\\users\\basti\\appdata\\roaming\\python\\python37\\site-packages (from tensorboard~=2.6->tensorflow>=2.6.0->tflite_model_maker) (1.8.0)\n",
      "Requirement already satisfied: markdown>=2.6.8 in c:\\users\\basti\\appdata\\roaming\\python\\python37\\site-packages (from tensorboard~=2.6->tensorflow>=2.6.0->tflite_model_maker) (3.3.4)\n",
      "Requirement already satisfied: tensorboard-data-server<0.7.0,>=0.6.0 in c:\\users\\basti\\anaconda3\\lib\\site-packages (from tensorboard~=2.6->tensorflow>=2.6.0->tflite_model_maker) (0.6.1)\n",
      "Requirement already satisfied: zipp>=3.1.0 in c:\\users\\basti\\anaconda3\\lib\\site-packages (from importlib-resources->tensorflow-datasets>=2.1.0->tflite_model_maker) (3.7.0)\n",
      "Requirement already satisfied: googleapis-common-protos<2,>=1.52.0 in c:\\users\\basti\\anaconda3\\lib\\site-packages (from tensorflow-metadata->tensorflow-datasets>=2.1.0->tflite_model_maker) (1.53.0)\n",
      "Requirement already satisfied: pycparser in c:\\users\\basti\\anaconda3\\lib\\site-packages (from cffi>=1.0->soundfile>=0.10.2->librosa==0.8.1->tflite_model_maker) (2.19)\n",
      "Collecting google-api-core[grpc]!=2.0.*,!=2.1.*,!=2.2.*,!=2.3.0,<3.0.0dev,>=1.31.5\n",
      "  Using cached google_api_core-2.7.0-py3-none-any.whl (114 kB)\n",
      "  Using cached google_api_core-2.6.1-py3-none-any.whl (114 kB)\n",
      "  Using cached google_api_core-2.6.0-py2.py3-none-any.whl (114 kB)\n",
      "  Using cached google_api_core-2.5.0-py2.py3-none-any.whl (111 kB)\n",
      "  Using cached google_api_core-2.4.0-py2.py3-none-any.whl (111 kB)\n",
      "  Using cached google_api_core-2.3.2-py2.py3-none-any.whl (109 kB)\n",
      "  Using cached google_api_core-1.31.5-py2.py3-none-any.whl (93 kB)\n",
      "Requirement already satisfied: rsa<5,>=3.1.4 in c:\\users\\basti\\appdata\\roaming\\python\\python37\\site-packages (from google-auth<2dev,>=1.16.0->google-api-python-client>=1.6.7->tf-models-official==2.3.0->tflite_model_maker) (4.7.2)\n",
      "Requirement already satisfied: pyasn1-modules>=0.2.1 in c:\\users\\basti\\appdata\\roaming\\python\\python37\\site-packages (from google-auth<2dev,>=1.16.0->google-api-python-client>=1.6.7->tf-models-official==2.3.0->tflite_model_maker) (0.2.8)\n",
      "Requirement already satisfied: cachetools<5.0,>=2.0.0 in c:\\users\\basti\\appdata\\roaming\\python\\python37\\site-packages (from google-auth<2dev,>=1.16.0->google-api-python-client>=1.6.7->tf-models-official==2.3.0->tflite_model_maker) (4.2.1)\n",
      "Requirement already satisfied: requests-oauthlib>=0.7.0 in c:\\users\\basti\\appdata\\roaming\\python\\python37\\site-packages (from google-auth-oauthlib<0.5,>=0.4.1->tensorboard~=2.6->tensorflow>=2.6.0->tflite_model_maker) (1.3.0)\n",
      "Collecting google-crc32c<2.0dev,>=1.0\n",
      "  Using cached google_crc32c-1.3.0-cp37-cp37m-win_amd64.whl (27 kB)\n",
      "Requirement already satisfied: importlib-metadata in c:\\users\\basti\\anaconda3\\lib\\site-packages (from markdown>=2.6.8->tensorboard~=2.6->tensorflow>=2.6.0->tflite_model_maker) (4.10.0)\n",
      "Requirement already satisfied: text-unidecode>=1.3 in c:\\users\\basti\\anaconda3\\lib\\site-packages (from python-slugify->kaggle>=1.3.9->tf-models-official==2.3.0->tflite_model_maker) (1.3)\n",
      "Requirement already satisfied: pyasn1<0.5.0,>=0.4.6 in c:\\users\\basti\\appdata\\roaming\\python\\python37\\site-packages (from pyasn1-modules>=0.2.1->google-auth<2dev,>=1.16.0->google-api-python-client>=1.6.7->tf-models-official==2.3.0->tflite_model_maker) (0.4.8)\n",
      "Requirement already satisfied: oauthlib>=3.0.0 in c:\\users\\basti\\appdata\\roaming\\python\\python37\\site-packages (from requests-oauthlib>=0.7.0->google-auth-oauthlib<0.5,>=0.4.1->tensorboard~=2.6->tensorflow>=2.6.0->tflite_model_maker) (3.1.0)\n",
      "Installing collected packages: keras, llvmlite, importlib-resources, grpcio, google-crc32c, fire, dm-tree, dill, tflite-support, tf-slim, tensorflow-model-optimization, tensorflow-metadata, numba, neural-structured-learning, kaggle, google-resumable-media, tensorflow-datasets, google-api-core, librosa, google-cloud-core, google-cloud-bigquery, tf-models-official, tensorflowjs, tflite_model_maker\n",
      "  Attempting uninstall: keras\n",
      "    Found existing installation: keras 2.8.0\n",
      "    Uninstalling keras-2.8.0:\n",
      "      Successfully uninstalled keras-2.8.0\n",
      "  Attempting uninstall: llvmlite\n",
      "    Found existing installation: llvmlite 0.29.0\n"
     ]
    },
    {
     "name": "stderr",
     "output_type": "stream",
     "text": [
      "WARNING: Ignoring invalid distribution -rotobuf (c:\\users\\basti\\appdata\\roaming\\python\\python37\\site-packages)\n",
      "WARNING: Ignoring invalid distribution -rotobuf (c:\\users\\basti\\appdata\\roaming\\python\\python37\\site-packages)\n",
      "WARNING: Ignoring invalid distribution -rotobuf (c:\\users\\basti\\appdata\\roaming\\python\\python37\\site-packages)\n",
      "    WARNING: Ignoring invalid distribution -rotobuf (c:\\users\\basti\\appdata\\roaming\\python\\python37\\site-packages)\n",
      "    WARNING: Ignoring invalid distribution -rotobuf (c:\\users\\basti\\appdata\\roaming\\python\\python37\\site-packages)\n",
      "ERROR: Cannot uninstall 'llvmlite'. It is a distutils installed project and thus we cannot accurately determine which files belong to it which would lead to only a partial uninstall.\n",
      "WARNING: Ignoring invalid distribution -rotobuf (c:\\users\\basti\\appdata\\roaming\\python\\python37\\site-packages)\n",
      "WARNING: Ignoring invalid distribution -rotobuf (c:\\users\\basti\\appdata\\roaming\\python\\python37\\site-packages)\n"
     ]
    }
   ],
   "source": [
    "! pip install tflite_model_maker"
   ]
  },
  {
   "cell_type": "code",
   "execution_count": 3,
   "metadata": {},
   "outputs": [
    {
     "name": "stdout",
     "output_type": "stream",
     "text": [
      "Package                            Version\n",
      "---------------------------------- -------------------\n",
      "absl-py                            0.12.0\n",
      "alabaster                          0.7.12\n",
      "anaconda-client                    1.7.2\n",
      "anaconda-navigator                 1.10.0\n",
      "anaconda-project                   0.8.3\n",
      "appdirs                            1.4.4\n",
      "asn1crypto                         1.0.1\n",
      "ast-scope                          0.3.1\n",
      "astroid                            2.3.1\n",
      "astropy                            3.2.1\n",
      "astunparse                         1.6.3\n",
      "atomicwrites                       1.3.0\n",
      "attrs                              19.3.0\n",
      "audioread                          2.1.9\n",
      "Automat                            20.2.0\n",
      "Babel                              2.7.0\n",
      "backcall                           0.1.0\n",
      "backports.entry-points-selectable  1.1.1\n",
      "backports.functools-lru-cache      1.6.1\n",
      "backports.os                       0.1.1\n",
      "backports.shutil-get-terminal-size 1.0.0\n",
      "backports.tempfile                 1.0\n",
      "backports.weakref                  1.0.post1\n",
      "beautifulsoup4                     4.8.0\n",
      "bitarray                           1.0.1\n",
      "bkcharts                           0.2\n",
      "bleach                             3.1.0\n",
      "bokeh                              1.3.4\n",
      "boto                               2.49.0\n",
      "Bottleneck                         1.2.1\n",
      "branca                             0.3.1\n",
      "Brotli                             1.0.9\n",
      "cachetools                         4.2.1\n",
      "certifi                            2019.11.28\n",
      "cffi                               1.12.3\n",
      "chardet                            3.0.4\n",
      "Click                              7.0\n",
      "cloudpickle                        1.2.2\n",
      "clyent                             1.2.2\n",
      "colorama                           0.4.3\n",
      "comtypes                           1.1.7\n",
      "conda                              4.11.0\n",
      "conda-build                        3.18.9\n",
      "conda-package-handling             1.7.2\n",
      "conda-verify                       3.4.2\n",
      "constantly                         15.1.0\n",
      "contextlib2                        0.6.0\n",
      "coverage                           4.4\n",
      "cryptography                       2.7\n",
      "cssselect                          1.1.0\n",
      "cycler                             0.10.0\n",
      "Cython                             0.29.13\n",
      "cytoolz                            0.10.0\n",
      "dash                               2.0.0\n",
      "dash-bootstrap-components          1.0.3\n",
      "dash-core-components               2.0.0\n",
      "dash-html-components               2.0.0\n",
      "dash-table                         5.0.0\n",
      "dask                               2.5.2\n",
      "dataclasses                        0.6\n",
      "decorator                          4.4.0\n",
      "defusedxml                         0.6.0\n",
      "Deprecated                         1.2.13\n",
      "descartes                          1.1.0\n",
      "dill                               0.3.4\n",
      "display-timedelta                  1.1\n",
      "distlib                            0.3.3\n",
      "distributed                        2.5.2\n",
      "dm-tree                            0.1.6\n",
      "docutils                           0.15.2\n",
      "entrypoints                        0.3\n",
      "et-xmlfile                         1.0.1\n",
      "fastcache                          1.1.0\n",
      "filelock                           3.4.0\n",
      "fire                               0.4.0\n",
      "Flask                              1.1.1\n",
      "Flask-Compress                     1.10.1\n",
      "flatbuffers                        1.12\n",
      "folium                             0.10.1\n",
      "fsspec                             0.5.2\n",
      "future                             0.18.2\n",
      "gast                               0.3.3\n",
      "geojson                            2.5.0\n",
      "gevent                             1.4.0\n",
      "gin-config                         0.5.0\n",
      "glob2                              0.7\n",
      "google-api-core                    1.31.5\n",
      "google-api-python-client           2.8.0\n",
      "google-auth                        1.27.1\n",
      "google-auth-httplib2               0.1.0\n",
      "google-auth-oauthlib               0.4.3\n",
      "google-cloud-bigquery              2.34.2\n",
      "google-cloud-core                  2.2.3\n",
      "google-crc32c                      1.3.0\n",
      "google-pasta                       0.2.0\n",
      "google-resumable-media             2.3.2\n",
      "googleapis-common-protos           1.53.0\n",
      "greenlet                           0.4.15\n",
      "grpcio                             1.44.0\n",
      "h2                                 3.2.0\n",
      "h5py                               2.10.0\n",
      "HeapDict                           1.0.1\n",
      "hpack                              3.0.0\n",
      "html5lib                           1.0.1\n",
      "httplib2                           0.19.1\n",
      "hyperframe                         5.2.0\n",
      "hyperlink                          21.0.0\n",
      "idna                               2.8\n",
      "imageio                            2.6.0\n",
      "imagesize                          1.1.0\n",
      "importlib-metadata                 4.10.0\n",
      "importlib-resources                5.4.0\n",
      "incremental                        21.3.0\n",
      "ipykernel                          5.1.2\n",
      "ipython                            7.8.0\n",
      "ipython_genutils                   0.2.0\n",
      "ipywidgets                         7.5.1\n",
      "isort                              4.3.21\n",
      "itemadapter                        0.4.0\n",
      "itemloaders                        1.0.4\n",
      "itsdangerous                       1.1.0\n",
      "jdcal                              1.4.1\n",
      "jedi                               0.15.1\n",
      "Jinja2                             2.10.3\n",
      "jmespath                           0.10.0\n",
      "joblib                             1.1.0\n",
      "json5                              0.8.5\n",
      "jsonschema                         3.0.2\n",
      "jupyter                            1.0.0\n",
      "jupyter-client                     5.3.3\n",
      "jupyter-console                    6.0.0\n",
      "jupyter-core                       4.5.0\n",
      "jupyterlab                         1.1.4\n",
      "jupyterlab-server                  1.0.6\n",
      "kaggle                             1.5.12\n",
      "keras                              2.7.0\n",
      "Keras-Preprocessing                1.1.2\n",
      "keyring                            18.0.0\n",
      "kiwisolver                         1.1.0\n",
      "lazy-object-proxy                  1.4.2\n",
      "libarchive-c                       2.8\n",
      "libclang                           13.0.0\n",
      "librosa                            0.8.1\n",
      "lineedit                           0.1.6\n",
      "llvmlite                           0.36.0\n",
      "locket                             0.2.0\n",
      "lxml                               4.8.0\n",
      "Markdown                           3.3.4\n",
      "MarkupSafe                         1.1.1\n",
      "matplotlib                         3.4.3\n",
      "mccabe                             0.6.1\n",
      "menuinst                           1.4.16\n",
      "mistune                            0.8.4\n",
      "mizani                             0.7.0\n",
      "mkl-fft                            1.0.14\n",
      "mkl-random                         1.1.0\n",
      "mkl-service                        2.3.0\n",
      "mock                               3.0.5\n",
      "more-itertools                     7.2.0\n",
      "mpmath                             1.1.0\n",
      "msgpack                            0.6.1\n",
      "multipledispatch                   0.6.0\n",
      "navigator-updater                  0.2.1\n",
      "nbconvert                          5.6.0\n",
      "nbformat                           4.4.0\n",
      "networkx                           2.3\n",
      "neural-structured-learning         1.3.1\n",
      "nltk                               3.4.5\n",
      "nose                               1.3.7\n",
      "notebook                           6.0.1\n",
      "numba                              0.53.0\n",
      "numexpr                            2.7.0\n",
      "numpy                              1.21.5\n",
      "numpydoc                           0.9.1\n",
      "oauth2client                       4.1.3\n",
      "oauthlib                           3.1.0\n",
      "okpy                               1.18.1\n",
      "olefile                            0.46\n",
      "opencv-python                      4.5.5.62\n",
      "opencv-python-headless             4.5.5.64\n",
      "openpyxl                           3.0.0\n",
      "opt-einsum                         3.3.0\n",
      "packaging                          21.3\n",
      "palettable                         3.3.0\n",
      "pandas                             1.3.4\n",
      "pandocfilters                      1.4.2\n",
      "parsel                             1.6.0\n",
      "parso                              0.5.1\n",
      "partd                              1.0.0\n",
      "path.py                            12.0.1\n",
      "pathlib2                           2.3.5\n",
      "patsy                              0.5.1\n",
      "pep8                               1.7.1\n",
      "pickleshare                        0.7.5\n",
      "Pillow                             9.0.1\n",
      "pip                                22.0.4\n",
      "pipenv                             2021.11.15\n",
      "pkginfo                            1.5.0.1\n",
      "platformdirs                       2.4.0\n",
      "plotly                             5.3.1\n",
      "plotnine                           0.6.0\n",
      "pluggy                             0.13.0\n",
      "ply                                3.11\n",
      "pooch                              1.6.0\n",
      "priority                           1.3.0\n",
      "prometheus-client                  0.7.1\n",
      "promise                            2.3\n",
      "prompt-toolkit                     2.0.10\n",
      "Protego                            0.1.16\n",
      "proto-plus                         1.20.3\n",
      "protobuf                           3.19.4\n",
      "psutil                             5.6.3\n",
      "py                                 1.8.0\n",
      "py-cpuinfo                         8.0.0\n",
      "pyaes                              1.6.1\n",
      "pyasn1                             0.4.8\n",
      "pyasn1-modules                     0.2.8\n",
      "pybind11                           2.9.1\n",
      "pycodestyle                        2.5.0\n",
      "pycosat                            0.6.3\n",
      "pycparser                          2.19\n",
      "pycrypto                           2.6.1\n",
      "pycurl                             7.43.0.3\n",
      "PyDispatcher                       2.0.5\n",
      "PyDrive                            1.3.1\n",
      "pyflakes                           2.1.1\n",
      "pygame                             2.0.1\n",
      "Pygments                           2.11.2\n",
      "pylint                             2.4.2\n",
      "pymongo                            4.0\n",
      "pyodbc                             4.0.27\n",
      "pyOpenSSL                          19.0.0\n",
      "pyparsing                          2.4.2\n",
      "pyreadline                         2.1\n",
      "pyrsistent                         0.15.4\n",
      "pyserial                           3.5\n",
      "PySocks                            1.7.1\n",
      "pytest                             5.2.1\n",
      "pytest-arraydiff                   0.3\n",
      "pytest-astropy                     0.5.0\n",
      "pytest-doctestplus                 0.4.0\n",
      "pytest-openfiles                   0.4.0\n",
      "pytest-remotedata                  0.3.2\n",
      "python-dateutil                    2.8.0\n",
      "python-slugify                     6.1.1\n",
      "pytutor                            1.0.0\n",
      "pytz                               2019.3\n",
      "PyWavelets                         1.0.3\n",
      "pywin32                            223\n",
      "pywinpty                           0.5.5\n",
      "PyYAML                             5.1.2\n",
      "pyzmq                              18.1.0\n",
      "QtAwesome                          0.6.0\n",
      "qtconsole                          4.5.5\n",
      "QtPy                               1.9.0\n",
      "queuelib                           1.6.2\n",
      "radian                             0.5.13\n",
      "rchitect                           0.3.35\n",
      "redis                              4.1.0\n",
      "requests                           2.22.0\n",
      "requests-oauthlib                  1.3.0\n",
      "resampy                            0.2.2\n",
      "rope                               0.14.0\n",
      "rsa                                4.7.2\n",
      "ruamel_yaml                        0.15.46\n",
      "scikit-image                       0.15.0\n",
      "scikit-learn                       0.21.3\n",
      "scipy                              1.7.1\n",
      "Scrapy                             2.5.1\n",
      "seaborn                            0.11.2\n",
      "Send2Trash                         1.5.0\n",
      "sentencepiece                      0.1.96\n",
      "service-identity                   21.1.0\n",
      "setuptools                         41.4.0\n",
      "simplegeneric                      0.8.1\n",
      "singledispatch                     3.4.0.3\n",
      "six                                1.15.0\n",
      "sklearn                            0.0\n",
      "snowballstemmer                    2.0.0\n",
      "sortedcollections                  1.1.2\n",
      "sortedcontainers                   2.1.0\n",
      "SoundFile                          0.10.3.post1\n",
      "soupsieve                          1.9.3\n",
      "Sphinx                             2.2.0\n",
      "sphinxcontrib-applehelp            1.0.1\n",
      "sphinxcontrib-devhelp              1.0.1\n",
      "sphinxcontrib-htmlhelp             1.0.2\n",
      "sphinxcontrib-jsmath               1.0.1\n",
      "sphinxcontrib-qthelp               1.0.2\n",
      "sphinxcontrib-serializinghtml      1.1.3\n",
      "sphinxcontrib-websupport           1.1.2\n",
      "split-folders                      0.5.1\n",
      "spyder                             3.3.6\n",
      "spyder-kernels                     0.5.2\n",
      "SQLAlchemy                         1.3.9\n",
      "statsmodels                        0.10.1\n",
      "sympy                              1.4\n",
      "tables                             3.5.2\n",
      "tblib                              1.4.0\n",
      "tenacity                           8.0.1\n",
      "tensorboard                        2.8.0\n",
      "tensorboard-data-server            0.6.1\n",
      "tensorboard-plugin-wit             1.8.0\n",
      "tensorflow                         2.7.0\n",
      "tensorflow-addons                  0.16.1\n",
      "tensorflow-datasets                4.5.2\n",
      "tensorflow-estimator               2.7.0\n",
      "tensorflow-hub                     0.12.0\n",
      "tensorflow-io-gcs-filesystem       0.24.0\n",
      "tensorflow-metadata                1.7.0\n",
      "tensorflow-model-optimization      0.7.2\n",
      "tensorflowjs                       3.14.0\n",
      "termcolor                          1.1.0\n",
      "terminado                          0.8.2\n",
      "testpath                           0.4.2\n",
      "text-unidecode                     1.3\n",
      "tf-estimator-nightly               2.8.0.dev2021122109\n",
      "tf-models-official                 2.3.0\n",
      "tf-slim                            1.1.0\n",
      "tflite-model-maker                 0.3.4\n",
      "tflite-support                     0.3.1\n",
      "toolz                              0.10.0\n",
      "tornado                            6.0.3\n",
      "tqdm                               4.36.1\n",
      "traitlets                          4.3.3\n",
      "Twisted                            21.7.0\n",
      "twisted-iocpsupport                1.0.2\n",
      "typeguard                          2.13.3\n",
      "typing-extensions                  3.7.4.3\n",
      "unicodecsv                         0.14.1\n",
      "uritemplate                        3.0.1\n",
      "urllib3                            1.25.7\n",
      "virtualenv                         20.10.0\n",
      "virtualenv-clone                   0.5.7\n",
      "w3lib                              1.22.0\n",
      "wcwidth                            0.1.7\n",
      "webencodings                       0.5.1\n",
      "Werkzeug                           0.16.0\n",
      "wheel                              0.36.2\n",
      "widgetsnbextension                 3.5.1\n",
      "win-inet-pton                      1.1.0\n",
      "win-unicode-console                0.5\n",
      "wincertstore                       0.2\n",
      "wordcloud                          1.8.1\n",
      "wrapt                              1.12.1\n",
      "xlrd                               1.2.0\n",
      "XlsxWriter                         1.2.1\n",
      "xlwings                            0.15.10\n",
      "xlwt                               1.3.0\n",
      "xmltodict                          0.12.0\n",
      "zict                               1.0.0\n",
      "zipp                               3.7.0\n",
      "zope.interface                     5.4.0\n"
     ]
    },
    {
     "name": "stderr",
     "output_type": "stream",
     "text": [
      "WARNING: Ignoring invalid distribution -rotobuf (c:\\users\\basti\\appdata\\roaming\\python\\python37\\site-packages)\n",
      "WARNING: Ignoring invalid distribution -rotobuf (c:\\users\\basti\\appdata\\roaming\\python\\python37\\site-packages)\n",
      "WARNING: Ignoring invalid distribution -rotobuf (c:\\users\\basti\\appdata\\roaming\\python\\python37\\site-packages)\n"
     ]
    }
   ],
   "source": [
    "!pip list"
   ]
  },
  {
   "cell_type": "markdown",
   "metadata": {
    "id": "z2ck_Ghdcgt9"
   },
   "source": [
    "## Import TensorFlow, Model Maker and other libraries\n",
    "\n",
    "Among the dependencies that are needed, you'll use TensorFlow and Model Maker. Aside those, the others are for audio manipulation, playing and visualizations."
   ]
  },
  {
   "cell_type": "code",
   "execution_count": 1,
   "metadata": {
    "id": "rwUA9u4oWoCR"
   },
   "outputs": [
    {
     "name": "stderr",
     "output_type": "stream",
     "text": [
      "C:\\Users\\basti\\Anaconda3\\lib\\site-packages\\sklearn\\linear_model\\least_angle.py:30: DeprecationWarning: `np.float` is a deprecated alias for the builtin `float`. To silence this warning, use `float` by itself. Doing this will not modify any behavior and is safe. If you specifically wanted the numpy scalar type, use `np.float64` here.\n",
      "Deprecated in NumPy 1.20; for more details and guidance: https://numpy.org/devdocs/release/1.20.0-notes.html#deprecations\n",
      "  method='lar', copy_X=True, eps=np.finfo(np.float).eps,\n",
      "C:\\Users\\basti\\Anaconda3\\lib\\site-packages\\sklearn\\linear_model\\least_angle.py:167: DeprecationWarning: `np.float` is a deprecated alias for the builtin `float`. To silence this warning, use `float` by itself. Doing this will not modify any behavior and is safe. If you specifically wanted the numpy scalar type, use `np.float64` here.\n",
      "Deprecated in NumPy 1.20; for more details and guidance: https://numpy.org/devdocs/release/1.20.0-notes.html#deprecations\n",
      "  method='lar', copy_X=True, eps=np.finfo(np.float).eps,\n",
      "C:\\Users\\basti\\Anaconda3\\lib\\site-packages\\sklearn\\linear_model\\least_angle.py:284: DeprecationWarning: `np.float` is a deprecated alias for the builtin `float`. To silence this warning, use `float` by itself. Doing this will not modify any behavior and is safe. If you specifically wanted the numpy scalar type, use `np.float64` here.\n",
      "Deprecated in NumPy 1.20; for more details and guidance: https://numpy.org/devdocs/release/1.20.0-notes.html#deprecations\n",
      "  eps=np.finfo(np.float).eps, copy_Gram=True, verbose=0,\n",
      "C:\\Users\\basti\\Anaconda3\\lib\\site-packages\\sklearn\\linear_model\\least_angle.py:862: DeprecationWarning: `np.float` is a deprecated alias for the builtin `float`. To silence this warning, use `float` by itself. Doing this will not modify any behavior and is safe. If you specifically wanted the numpy scalar type, use `np.float64` here.\n",
      "Deprecated in NumPy 1.20; for more details and guidance: https://numpy.org/devdocs/release/1.20.0-notes.html#deprecations\n",
      "  eps=np.finfo(np.float).eps, copy_X=True, fit_path=True,\n",
      "C:\\Users\\basti\\Anaconda3\\lib\\site-packages\\sklearn\\linear_model\\least_angle.py:1101: DeprecationWarning: `np.float` is a deprecated alias for the builtin `float`. To silence this warning, use `float` by itself. Doing this will not modify any behavior and is safe. If you specifically wanted the numpy scalar type, use `np.float64` here.\n",
      "Deprecated in NumPy 1.20; for more details and guidance: https://numpy.org/devdocs/release/1.20.0-notes.html#deprecations\n",
      "  eps=np.finfo(np.float).eps, copy_X=True, fit_path=True,\n",
      "C:\\Users\\basti\\Anaconda3\\lib\\site-packages\\sklearn\\linear_model\\least_angle.py:1127: DeprecationWarning: `np.float` is a deprecated alias for the builtin `float`. To silence this warning, use `float` by itself. Doing this will not modify any behavior and is safe. If you specifically wanted the numpy scalar type, use `np.float64` here.\n",
      "Deprecated in NumPy 1.20; for more details and guidance: https://numpy.org/devdocs/release/1.20.0-notes.html#deprecations\n",
      "  eps=np.finfo(np.float).eps, positive=False):\n",
      "C:\\Users\\basti\\Anaconda3\\lib\\site-packages\\sklearn\\linear_model\\least_angle.py:1362: DeprecationWarning: `np.float` is a deprecated alias for the builtin `float`. To silence this warning, use `float` by itself. Doing this will not modify any behavior and is safe. If you specifically wanted the numpy scalar type, use `np.float64` here.\n",
      "Deprecated in NumPy 1.20; for more details and guidance: https://numpy.org/devdocs/release/1.20.0-notes.html#deprecations\n",
      "  max_n_alphas=1000, n_jobs=None, eps=np.finfo(np.float).eps,\n",
      "C:\\Users\\basti\\Anaconda3\\lib\\site-packages\\sklearn\\linear_model\\least_angle.py:1602: DeprecationWarning: `np.float` is a deprecated alias for the builtin `float`. To silence this warning, use `float` by itself. Doing this will not modify any behavior and is safe. If you specifically wanted the numpy scalar type, use `np.float64` here.\n",
      "Deprecated in NumPy 1.20; for more details and guidance: https://numpy.org/devdocs/release/1.20.0-notes.html#deprecations\n",
      "  max_n_alphas=1000, n_jobs=None, eps=np.finfo(np.float).eps,\n",
      "C:\\Users\\basti\\Anaconda3\\lib\\site-packages\\sklearn\\linear_model\\least_angle.py:1738: DeprecationWarning: `np.float` is a deprecated alias for the builtin `float`. To silence this warning, use `float` by itself. Doing this will not modify any behavior and is safe. If you specifically wanted the numpy scalar type, use `np.float64` here.\n",
      "Deprecated in NumPy 1.20; for more details and guidance: https://numpy.org/devdocs/release/1.20.0-notes.html#deprecations\n",
      "  eps=np.finfo(np.float).eps, copy_X=True, positive=False):\n",
      "C:\\Users\\basti\\Anaconda3\\lib\\site-packages\\sklearn\\decomposition\\online_lda.py:29: DeprecationWarning: `np.float` is a deprecated alias for the builtin `float`. To silence this warning, use `float` by itself. Doing this will not modify any behavior and is safe. If you specifically wanted the numpy scalar type, use `np.float64` here.\n",
      "Deprecated in NumPy 1.20; for more details and guidance: https://numpy.org/devdocs/release/1.20.0-notes.html#deprecations\n",
      "  EPS = np.finfo(np.float).eps\n",
      "C:\\Users\\basti\\Anaconda3\\lib\\site-packages\\sklearn\\feature_extraction\\image.py:167: DeprecationWarning: `np.int` is a deprecated alias for the builtin `int`. To silence this warning, use `int` by itself. Doing this will not modify any behavior and is safe. When replacing `np.int`, you may wish to use e.g. `np.int64` or `np.int32` to specify the precision. If you wish to review your current use, check the release note link for additional information.\n",
      "Deprecated in NumPy 1.20; for more details and guidance: https://numpy.org/devdocs/release/1.20.0-notes.html#deprecations\n",
      "  dtype=np.int):\n"
     ]
    },
    {
     "name": "stdout",
     "output_type": "stream",
     "text": [
      "TensorFlow Version: 2.7.0\n",
      "Model Maker Version: 0.3.4\n"
     ]
    }
   ],
   "source": [
    "import tensorflow as tf\n",
    "import tflite_model_maker as mm\n",
    "from tflite_model_maker import audio_classifier\n",
    "import os\n",
    "\n",
    "import numpy as np\n",
    "import matplotlib.pyplot as plt\n",
    "import seaborn as sns\n",
    "\n",
    "import itertools\n",
    "import glob\n",
    "import random\n",
    "\n",
    "from IPython.display import Audio, Image\n",
    "from scipy.io import wavfile\n",
    "\n",
    "print(f\"TensorFlow Version: {tf.__version__}\")\n",
    "print(f\"Model Maker Version: {mm.__version__}\")"
   ]
  },
  {
   "cell_type": "code",
   "execution_count": 3,
   "metadata": {},
   "outputs": [
    {
     "ename": "PermissionError",
     "evalue": "[Errno 13] Permission denied: '.'",
     "output_type": "error",
     "traceback": [
      "\u001b[1;31m---------------------------------------------------------------------------\u001b[0m",
      "\u001b[1;31mPermissionError\u001b[0m                           Traceback (most recent call last)",
      "\u001b[1;32m<ipython-input-3-feb3765cf9bf>\u001b[0m in \u001b[0;36m<module>\u001b[1;34m\u001b[0m\n\u001b[0;32m      1\u001b[0m \u001b[1;32mimport\u001b[0m \u001b[0mos\u001b[0m\u001b[1;33m\u001b[0m\u001b[1;33m\u001b[0m\u001b[0m\n\u001b[0;32m      2\u001b[0m \u001b[1;32mimport\u001b[0m \u001b[0mwave\u001b[0m\u001b[1;33m\u001b[0m\u001b[1;33m\u001b[0m\u001b[0m\n\u001b[1;32m----> 3\u001b[1;33m \u001b[0mdir_fd\u001b[0m \u001b[1;33m=\u001b[0m \u001b[0mos\u001b[0m\u001b[1;33m.\u001b[0m\u001b[0mopen\u001b[0m\u001b[1;33m(\u001b[0m\u001b[1;34m'.'\u001b[0m\u001b[1;33m,\u001b[0m \u001b[0mos\u001b[0m\u001b[1;33m.\u001b[0m\u001b[0mO_RDONLY\u001b[0m\u001b[1;33m)\u001b[0m\u001b[1;33m\u001b[0m\u001b[1;33m\u001b[0m\u001b[0m\n\u001b[0m\u001b[0;32m      4\u001b[0m \u001b[1;33m\u001b[0m\u001b[0m\n\u001b[0;32m      5\u001b[0m \u001b[1;32mwith\u001b[0m \u001b[0mwave\u001b[0m\u001b[1;33m.\u001b[0m\u001b[0mopen\u001b[0m\u001b[1;33m(\u001b[0m\u001b[1;34m'\\\\201104270459.wav'\u001b[0m\u001b[1;33m,\u001b[0m \u001b[1;34m'rb'\u001b[0m\u001b[1;33m)\u001b[0m \u001b[1;32mas\u001b[0m \u001b[0mf\u001b[0m\u001b[1;33m:\u001b[0m\u001b[1;33m\u001b[0m\u001b[1;33m\u001b[0m\u001b[0m\n",
      "\u001b[1;31mPermissionError\u001b[0m: [Errno 13] Permission denied: '.'"
     ]
    }
   ],
   "source": [
    "import os\n",
    "import wave\n",
    "dir_fd = os.open('.', os.O_RDONLY)\n",
    "\n",
    "with wave.open('\\\\201104270459.wav', 'rb') as f:\n",
    "    frame_rate = f.getframerate()\n",
    "    print(frame_rate)\n",
    "\n",
    "# for file_name in os.listdir('2'):\n",
    "#     with wave.open(file_name, \"rb\") as wave_file:\n",
    "#         frame_rate = wave_file.getframerate()\n",
    "#         print(frame_rate)"
   ]
  },
  {
   "cell_type": "markdown",
   "metadata": {
    "id": "HIfm2TxKZAuA"
   },
   "source": [
    "## The Birds dataset\n",
    "\n",
    "The Birds dataset is an education collection of 5 types of birds songs:\n",
    "\n",
    "- White-breasted Wood-Wren\n",
    "- House Sparrow\n",
    "- Red Crossbill  \n",
    "- Chestnut-crowned Antpitta\n",
    "- Azara's Spinetail\n",
    "\n",
    "The original audio came from [Xeno-canto](https://www.xeno-canto.org/) which is a website dedicated to sharing bird sounds from all over the world.\n",
    "\n",
    "Let's start by downloading the data."
   ]
  },
  {
   "cell_type": "code",
   "execution_count": 4,
   "metadata": {
    "id": "upNRfilkNSmr"
   },
   "outputs": [],
   "source": [
    "# birds_dataset_folder = tf.keras.utils.get_file('birds_dataset.zip',\n",
    "#                                                 'https://storage.googleapis.com/laurencemoroney-blog.appspot.com/birds_dataset.zip',\n",
    "#                                                 cache_dir='./',\n",
    "#                                                 cache_subdir='dataset',\n",
    "#                                                 extract=True)\n",
    "                                                "
   ]
  },
  {
   "cell_type": "markdown",
   "metadata": {
    "id": "441bbzZ5d6oq"
   },
   "source": [
    "## Explore the data\n",
    "\n",
    "The audios are already split in train and test folders. Inside each split folder, there's one folder for each bird, using their `bird_code` as name.\n",
    "\n",
    "The audios are all mono and with 16kHz sample rate.\n",
    "\n",
    "For more information about each file, you can read the `metadata.csv` file. It contains all the files authors, lincenses and some more information. You won't need to read it yourself on this tutorial."
   ]
  },
  {
   "cell_type": "code",
   "execution_count": 8,
   "metadata": {
    "id": "ayd7UqCfQQFU"
   },
   "outputs": [
    {
     "name": "stdout",
     "output_type": "stream",
     "text": [
      "functions and data structures created\n"
     ]
    }
   ],
   "source": [
    "# @title [Run this] Util functions and data structures.\n",
    "\n",
    "data_dir = '.\\\\Data\\\\Train\\\\'\n",
    "\n",
    "# data_dir = './dataset/small_birds_dataset'\n",
    "\n",
    "heart_sound_code_to_name = {\n",
    "  'Artifact': 'Artifact, noise',\n",
    "  'Extrahs': 'Extra heart sound',\n",
    "  'Murmur': 'Murmur',  \n",
    "  'Normal': 'Normal heartbeat',\n",
    "  'Extrasystole': 'Extrasystole',\n",
    "}\n",
    "\n",
    "\n",
    "test_files = os.path.join(data_dir, 'val\\\\*\\\\*.wav')\n",
    "\n",
    "# test_files = 'training/*/*.wav'\n",
    "\n",
    "\n",
    "# bird_code = audio_path.split('/')[1]\n",
    "\n",
    "\n",
    "def get_random_audio_file():\n",
    "  test_list = glob.glob(test_files)\n",
    "  random_audio_path = random.choice(test_list)\n",
    "  return random_audio_path\n",
    "\n",
    "\n",
    "def show_heart_data(audio_path):\n",
    "  sample_rate, audio_data = wavfile.read(audio_path, 'rb')\n",
    "  # print(audio_path, 'HERE')\n",
    "  heart_sound_code = audio_path.split('\\\\')[-2]\n",
    "  # print(bird_code)\n",
    "  print(f'heart sound name: {heart_sound_code_to_name[heart_sound_code]}')\n",
    "  print(f'heart sound code: {heart_sound_code}')\n",
    "  # display(Image(birds_images[bird_code]))\n",
    "\n",
    "  plttitle = f'{heart_sound_code_to_name[heart_sound_code]} ({heart_sound_code})'\n",
    "  plt.title(plttitle)\n",
    "  plt.plot(audio_data)\n",
    "  # display(Audio(audio_data, rate=sample_rate))\n",
    "\n",
    "print('functions and data structures created')"
   ]
  },
  {
   "cell_type": "markdown",
   "metadata": {
    "id": "Yrv0uD7aXYl4"
   },
   "source": [
    "### Playing some audio\n",
    "\n",
    "To have a better understanding about the data, lets listen to a random audio files from the test split.\n",
    "\n",
    "Note: later in this notebook you'll run inference on this audio for testing"
   ]
  },
  {
   "cell_type": "code",
   "execution_count": 9,
   "metadata": {
    "id": "tEeMZh-VQy97"
   },
   "outputs": [
    {
     "name": "stdout",
     "output_type": "stream",
     "text": [
      "heart sound name: Murmur\n",
      "heart sound code: Atraining_murmur\n"
     ]
    },
    {
     "data": {
      "image/png": "[encoded data removed]",
      "text/plain": [
       "<Figure size 432x288 with 1 Axes>"
      ]
     },
     "metadata": {
      "needs_background": "light"
     },
     "output_type": "display_data"
    }
   ],
   "source": [
    "random_audio = get_random_audio_file()\n",
    "show_heart_data(random_audio)"
   ]
  },
  {
   "cell_type": "markdown",
   "metadata": {},
   "source": [
    "# Training the model\n"
   ]
  },
  {
   "cell_type": "code",
   "execution_count": 5,
   "metadata": {},
   "outputs": [
    {
     "name": "stdout",
     "output_type": "stream",
     "text": [
      "INFO:tensorflow:Checkpoints are stored in C:\\Users\\Jonathan\\AppData\\Local\\Temp\\tmp7wu5j1n8\n"
     ]
    }
   ],
   "source": [
    "spec = audio_classifier.YamNetSpec(keep_yamnet_and_custom_heads=True, frame_step=3 * audio_classifier.YamNetSpec.EXPECTED_WAVEFORM_LENGTH,frame_length=6 * audio_classifier.YamNetSpec.EXPECTED_WAVEFORM_LENGTH)\n"
   ]
  },
  {
   "cell_type": "markdown",
   "metadata": {},
   "source": [
    "## Loading the data"
   ]
  },
  {
   "cell_type": "code",
   "execution_count": 10,
   "metadata": {},
   "outputs": [],
   "source": [
    "train_data = audio_classifier.DataLoader.from_folder(\n",
    "    spec, os.path.join(data_dir, 'train'), cache=True)\n",
    "\n",
    "validation_data = audio_classifier.DataLoader.from_folder(\n",
    "    spec, os.path.join(data_dir, 'val'), cache=True)\n",
    "\n",
    "\n",
    "test_data = audio_classifier.DataLoader.from_folder(\n",
    "    spec, os.path.join(data_dir, 'test'), cache=True)"
   ]
  },
  {
   "cell_type": "markdown",
   "metadata": {
    "id": "ziMghju-Rts2"
   },
   "source": [
    "## Training the model\n",
    "\n",
    "the audio_classifier has the [`create`](https://www.tensorflow.org/lite/api_docs/python/tflite_model_maker/audio_classifier/create) method that creates a model and already start training it. \n",
    "\n",
    "You can customize many parameterss, for more information you can read more details in the documentation.\n",
    "\n",
    "On this first try you'll use all the default configurations and train for 100 epochs.\n",
    "\n",
    "Note: The first epoch takes longer than all the other ones because it's when the cache is created. After that each epoch takes close to 1 second."
   ]
  },
  {
   "cell_type": "code",
   "execution_count": 12,
   "metadata": {
    "id": "8r6Awvl4ZkIv"
   },
   "outputs": [
    {
     "name": "stdout",
     "output_type": "stream",
     "text": [
      "Training the model\n",
      "Model: \"sequential\"\n",
      "_________________________________________________________________\n",
      " Layer (type)                Output Shape              Param #   \n",
      "=================================================================\n",
      " classification_head (Dense)  (None, 5)                5125      \n",
      "                                                                 \n",
      "=================================================================\n",
      "Total params: 5,125\n",
      "Trainable params: 5,125\n",
      "Non-trainable params: 0\n",
      "_________________________________________________________________\n",
      "Epoch 1/100\n",
      "5/5 [==============================] - 12s 1s/step - loss: 1.5991 - acc: 0.2381 - val_loss: 1.5039 - val_acc: 0.3077\n",
      "Epoch 2/100\n",
      "5/5 [==============================] - 0s 58ms/step - loss: 1.4088 - acc: 0.3469 - val_loss: 1.4164 - val_acc: 0.4615\n",
      "Epoch 3/100\n",
      "5/5 [==============================] - 0s 60ms/step - loss: 1.2940 - acc: 0.4422 - val_loss: 1.3497 - val_acc: 0.5641\n",
      "Epoch 4/100\n",
      "5/5 [==============================] - 0s 67ms/step - loss: 1.2346 - acc: 0.4898 - val_loss: 1.2889 - val_acc: 0.5897\n",
      "Epoch 5/100\n",
      "5/5 [==============================] - 0s 61ms/step - loss: 1.1571 - acc: 0.5578 - val_loss: 1.2244 - val_acc: 0.6923\n",
      "Epoch 6/100\n",
      "5/5 [==============================] - 0s 60ms/step - loss: 1.0990 - acc: 0.6327 - val_loss: 1.1619 - val_acc: 0.7179\n",
      "Epoch 7/100\n",
      "5/5 [==============================] - 0s 62ms/step - loss: 1.0814 - acc: 0.6122 - val_loss: 1.1023 - val_acc: 0.7179\n",
      "Epoch 8/100\n",
      "5/5 [==============================] - 0s 61ms/step - loss: 1.0506 - acc: 0.6395 - val_loss: 1.0461 - val_acc: 0.7692\n",
      "Epoch 9/100\n",
      "5/5 [==============================] - 0s 70ms/step - loss: 1.0122 - acc: 0.6939 - val_loss: 0.9935 - val_acc: 0.7949\n",
      "Epoch 10/100\n",
      "5/5 [==============================] - 0s 60ms/step - loss: 0.9703 - acc: 0.7143 - val_loss: 0.9432 - val_acc: 0.8205\n",
      "Epoch 11/100\n",
      "5/5 [==============================] - 0s 60ms/step - loss: 0.9399 - acc: 0.7075 - val_loss: 0.9009 - val_acc: 0.8462\n",
      "Epoch 12/100\n",
      "5/5 [==============================] - 0s 61ms/step - loss: 0.9167 - acc: 0.7347 - val_loss: 0.8622 - val_acc: 0.8205\n",
      "Epoch 13/100\n",
      "5/5 [==============================] - 0s 62ms/step - loss: 0.8579 - acc: 0.7619 - val_loss: 0.8322 - val_acc: 0.8205\n",
      "Epoch 14/100\n",
      "5/5 [==============================] - 0s 61ms/step - loss: 0.8353 - acc: 0.7619 - val_loss: 0.8052 - val_acc: 0.8205\n",
      "Epoch 15/100\n",
      "5/5 [==============================] - 0s 58ms/step - loss: 0.8388 - acc: 0.7483 - val_loss: 0.7777 - val_acc: 0.8205\n",
      "Epoch 16/100\n",
      "5/5 [==============================] - 0s 69ms/step - loss: 0.7929 - acc: 0.7823 - val_loss: 0.7540 - val_acc: 0.8205\n",
      "Epoch 17/100\n",
      "5/5 [==============================] - 0s 61ms/step - loss: 0.8093 - acc: 0.7619 - val_loss: 0.7311 - val_acc: 0.8205\n",
      "Epoch 18/100\n",
      "5/5 [==============================] - 0s 67ms/step - loss: 0.7269 - acc: 0.8231 - val_loss: 0.7127 - val_acc: 0.8205\n",
      "Epoch 19/100\n",
      "5/5 [==============================] - 0s 61ms/step - loss: 0.7442 - acc: 0.7891 - val_loss: 0.6962 - val_acc: 0.8205\n",
      "Epoch 20/100\n",
      "5/5 [==============================] - 0s 60ms/step - loss: 0.7108 - acc: 0.7891 - val_loss: 0.6846 - val_acc: 0.8205\n",
      "Epoch 21/100\n",
      "5/5 [==============================] - 0s 58ms/step - loss: 0.7145 - acc: 0.7891 - val_loss: 0.6705 - val_acc: 0.8205\n",
      "Epoch 22/100\n",
      "5/5 [==============================] - 0s 58ms/step - loss: 0.7115 - acc: 0.7687 - val_loss: 0.6545 - val_acc: 0.8205\n",
      "Epoch 23/100\n",
      "5/5 [==============================] - 0s 60ms/step - loss: 0.7017 - acc: 0.7823 - val_loss: 0.6416 - val_acc: 0.8205\n",
      "Epoch 24/100\n",
      "5/5 [==============================] - 0s 59ms/step - loss: 0.6716 - acc: 0.8027 - val_loss: 0.6296 - val_acc: 0.8205\n",
      "Epoch 25/100\n",
      "5/5 [==============================] - 0s 63ms/step - loss: 0.6495 - acc: 0.7891 - val_loss: 0.6199 - val_acc: 0.8205\n",
      "Epoch 26/100\n",
      "5/5 [==============================] - 0s 58ms/step - loss: 0.6522 - acc: 0.8095 - val_loss: 0.6113 - val_acc: 0.8205\n",
      "Epoch 27/100\n",
      "5/5 [==============================] - 0s 59ms/step - loss: 0.6297 - acc: 0.7959 - val_loss: 0.6040 - val_acc: 0.8205\n",
      "Epoch 28/100\n",
      "5/5 [==============================] - 0s 61ms/step - loss: 0.6430 - acc: 0.7891 - val_loss: 0.5958 - val_acc: 0.8205\n",
      "Epoch 29/100\n",
      "5/5 [==============================] - 0s 61ms/step - loss: 0.6153 - acc: 0.8299 - val_loss: 0.5888 - val_acc: 0.8205\n",
      "Epoch 30/100\n",
      "5/5 [==============================] - 0s 59ms/step - loss: 0.6269 - acc: 0.8027 - val_loss: 0.5811 - val_acc: 0.8205\n",
      "Epoch 31/100\n",
      "5/5 [==============================] - 0s 59ms/step - loss: 0.5898 - acc: 0.8503 - val_loss: 0.5761 - val_acc: 0.8205\n",
      "Epoch 32/100\n",
      "5/5 [==============================] - 0s 60ms/step - loss: 0.6116 - acc: 0.8299 - val_loss: 0.5688 - val_acc: 0.8205\n",
      "Epoch 33/100\n",
      "5/5 [==============================] - 0s 61ms/step - loss: 0.5888 - acc: 0.8095 - val_loss: 0.5619 - val_acc: 0.8205\n",
      "Epoch 34/100\n",
      "5/5 [==============================] - 0s 59ms/step - loss: 0.5714 - acc: 0.8231 - val_loss: 0.5571 - val_acc: 0.8205\n",
      "Epoch 35/100\n",
      "5/5 [==============================] - 0s 59ms/step - loss: 0.5446 - acc: 0.8299 - val_loss: 0.5517 - val_acc: 0.8205\n",
      "Epoch 36/100\n",
      "5/5 [==============================] - 0s 62ms/step - loss: 0.5560 - acc: 0.8027 - val_loss: 0.5463 - val_acc: 0.8205\n",
      "Epoch 37/100\n",
      "5/5 [==============================] - 0s 58ms/step - loss: 0.5452 - acc: 0.8435 - val_loss: 0.5418 - val_acc: 0.8205\n",
      "Epoch 38/100\n",
      "5/5 [==============================] - 0s 58ms/step - loss: 0.5430 - acc: 0.8163 - val_loss: 0.5359 - val_acc: 0.8205\n",
      "Epoch 39/100\n",
      "5/5 [==============================] - 0s 59ms/step - loss: 0.5203 - acc: 0.8503 - val_loss: 0.5339 - val_acc: 0.8205\n",
      "Epoch 40/100\n",
      "5/5 [==============================] - 0s 59ms/step - loss: 0.5363 - acc: 0.8367 - val_loss: 0.5306 - val_acc: 0.8205\n",
      "Epoch 41/100\n",
      "5/5 [==============================] - 0s 62ms/step - loss: 0.5329 - acc: 0.8231 - val_loss: 0.5300 - val_acc: 0.8205\n",
      "Epoch 42/100\n",
      "5/5 [==============================] - 0s 68ms/step - loss: 0.5187 - acc: 0.8707 - val_loss: 0.5273 - val_acc: 0.8205\n",
      "Epoch 43/100\n",
      "5/5 [==============================] - 0s 70ms/step - loss: 0.5198 - acc: 0.8503 - val_loss: 0.5225 - val_acc: 0.8205\n",
      "Epoch 44/100\n",
      "5/5 [==============================] - 0s 68ms/step - loss: 0.5138 - acc: 0.8435 - val_loss: 0.5213 - val_acc: 0.8205\n",
      "Epoch 45/100\n",
      "5/5 [==============================] - 0s 68ms/step - loss: 0.5124 - acc: 0.8231 - val_loss: 0.5170 - val_acc: 0.8205\n",
      "Epoch 46/100\n",
      "5/5 [==============================] - 0s 83ms/step - loss: 0.4912 - acc: 0.8367 - val_loss: 0.5135 - val_acc: 0.8205\n",
      "Epoch 47/100\n",
      "5/5 [==============================] - 0s 67ms/step - loss: 0.4808 - acc: 0.8503 - val_loss: 0.5092 - val_acc: 0.8205\n",
      "Epoch 48/100\n",
      "5/5 [==============================] - 0s 67ms/step - loss: 0.4735 - acc: 0.8844 - val_loss: 0.5054 - val_acc: 0.7949\n",
      "Epoch 49/100\n",
      "5/5 [==============================] - 0s 68ms/step - loss: 0.4709 - acc: 0.8571 - val_loss: 0.5025 - val_acc: 0.7949\n",
      "Epoch 50/100\n",
      "5/5 [==============================] - 0s 74ms/step - loss: 0.4686 - acc: 0.8435 - val_loss: 0.5009 - val_acc: 0.7949\n",
      "Epoch 51/100\n",
      "5/5 [==============================] - 0s 65ms/step - loss: 0.4658 - acc: 0.8367 - val_loss: 0.5005 - val_acc: 0.7949\n",
      "Epoch 52/100\n",
      "5/5 [==============================] - 0s 76ms/step - loss: 0.4719 - acc: 0.8435 - val_loss: 0.5008 - val_acc: 0.7949\n",
      "Epoch 53/100\n",
      "5/5 [==============================] - 0s 65ms/step - loss: 0.4711 - acc: 0.8707 - val_loss: 0.5030 - val_acc: 0.8205\n",
      "Epoch 54/100\n",
      "5/5 [==============================] - 0s 61ms/step - loss: 0.4441 - acc: 0.8776 - val_loss: 0.5018 - val_acc: 0.8205\n",
      "Epoch 55/100\n",
      "5/5 [==============================] - 0s 60ms/step - loss: 0.4528 - acc: 0.8503 - val_loss: 0.4996 - val_acc: 0.8205\n",
      "Epoch 56/100\n",
      "5/5 [==============================] - 0s 61ms/step - loss: 0.4713 - acc: 0.8571 - val_loss: 0.4961 - val_acc: 0.8205\n",
      "Epoch 57/100\n",
      "5/5 [==============================] - 0s 67ms/step - loss: 0.4740 - acc: 0.8639 - val_loss: 0.4926 - val_acc: 0.7949\n",
      "Epoch 58/100\n",
      "5/5 [==============================] - 0s 60ms/step - loss: 0.4226 - acc: 0.8639 - val_loss: 0.4895 - val_acc: 0.7949\n",
      "Epoch 59/100\n",
      "5/5 [==============================] - 0s 61ms/step - loss: 0.4305 - acc: 0.8571 - val_loss: 0.4898 - val_acc: 0.7949\n",
      "Epoch 60/100\n",
      "5/5 [==============================] - 0s 63ms/step - loss: 0.4320 - acc: 0.8639 - val_loss: 0.4860 - val_acc: 0.7949\n",
      "Epoch 61/100\n",
      "5/5 [==============================] - 0s 67ms/step - loss: 0.4441 - acc: 0.8844 - val_loss: 0.4863 - val_acc: 0.7949\n",
      "Epoch 62/100\n",
      "5/5 [==============================] - 0s 72ms/step - loss: 0.4294 - acc: 0.8707 - val_loss: 0.4889 - val_acc: 0.7949\n",
      "Epoch 63/100\n",
      "5/5 [==============================] - 0s 61ms/step - loss: 0.4029 - acc: 0.8776 - val_loss: 0.4873 - val_acc: 0.7949\n",
      "Epoch 64/100\n",
      "5/5 [==============================] - 0s 61ms/step - loss: 0.4313 - acc: 0.8503 - val_loss: 0.4851 - val_acc: 0.7949\n",
      "Epoch 65/100\n",
      "5/5 [==============================] - 0s 61ms/step - loss: 0.3921 - acc: 0.9048 - val_loss: 0.4865 - val_acc: 0.7949\n",
      "Epoch 66/100\n",
      "5/5 [==============================] - 0s 66ms/step - loss: 0.4341 - acc: 0.8163 - val_loss: 0.4885 - val_acc: 0.7949\n",
      "Epoch 67/100\n",
      "5/5 [==============================] - 0s 61ms/step - loss: 0.4174 - acc: 0.8639 - val_loss: 0.4875 - val_acc: 0.7949\n",
      "Epoch 68/100\n",
      "5/5 [==============================] - 0s 64ms/step - loss: 0.4202 - acc: 0.8299 - val_loss: 0.4836 - val_acc: 0.7949\n",
      "Epoch 69/100\n",
      "5/5 [==============================] - 0s 63ms/step - loss: 0.3857 - acc: 0.9252 - val_loss: 0.4815 - val_acc: 0.7949\n",
      "Epoch 70/100\n",
      "5/5 [==============================] - 0s 62ms/step - loss: 0.4013 - acc: 0.8571 - val_loss: 0.4815 - val_acc: 0.7949\n",
      "Epoch 71/100\n",
      "5/5 [==============================] - 0s 59ms/step - loss: 0.3900 - acc: 0.8639 - val_loss: 0.4827 - val_acc: 0.7949\n",
      "Epoch 72/100\n",
      "5/5 [==============================] - 0s 66ms/step - loss: 0.4079 - acc: 0.8707 - val_loss: 0.4793 - val_acc: 0.7949\n",
      "Epoch 73/100\n",
      "5/5 [==============================] - 0s 60ms/step - loss: 0.3971 - acc: 0.8707 - val_loss: 0.4768 - val_acc: 0.7949\n",
      "Epoch 74/100\n",
      "5/5 [==============================] - 0s 59ms/step - loss: 0.3877 - acc: 0.8844 - val_loss: 0.4783 - val_acc: 0.7949\n",
      "Epoch 75/100\n",
      "5/5 [==============================] - 0s 58ms/step - loss: 0.4002 - acc: 0.8844 - val_loss: 0.4770 - val_acc: 0.7949\n",
      "Epoch 76/100\n",
      "5/5 [==============================] - 0s 59ms/step - loss: 0.3896 - acc: 0.8844 - val_loss: 0.4766 - val_acc: 0.7949\n",
      "Epoch 77/100\n",
      "5/5 [==============================] - 0s 59ms/step - loss: 0.3862 - acc: 0.8776 - val_loss: 0.4764 - val_acc: 0.7949\n",
      "Epoch 78/100\n",
      "5/5 [==============================] - 0s 58ms/step - loss: 0.3903 - acc: 0.8571 - val_loss: 0.4738 - val_acc: 0.7949\n",
      "Epoch 79/100\n",
      "5/5 [==============================] - 0s 59ms/step - loss: 0.3957 - acc: 0.8707 - val_loss: 0.4738 - val_acc: 0.7949\n",
      "Epoch 80/100\n",
      "5/5 [==============================] - 0s 62ms/step - loss: 0.3843 - acc: 0.8639 - val_loss: 0.4699 - val_acc: 0.7949\n",
      "Epoch 81/100\n",
      "5/5 [==============================] - 0s 66ms/step - loss: 0.3593 - acc: 0.9048 - val_loss: 0.4681 - val_acc: 0.7949\n",
      "Epoch 82/100\n",
      "5/5 [==============================] - 0s 62ms/step - loss: 0.3777 - acc: 0.8776 - val_loss: 0.4673 - val_acc: 0.7949\n",
      "Epoch 83/100\n",
      "5/5 [==============================] - 0s 58ms/step - loss: 0.3826 - acc: 0.8844 - val_loss: 0.4664 - val_acc: 0.7949\n",
      "Epoch 84/100\n",
      "5/5 [==============================] - 0s 60ms/step - loss: 0.3515 - acc: 0.9116 - val_loss: 0.4692 - val_acc: 0.7949\n",
      "Epoch 85/100\n",
      "5/5 [==============================] - 0s 59ms/step - loss: 0.3601 - acc: 0.8912 - val_loss: 0.4699 - val_acc: 0.7949\n",
      "Epoch 86/100\n",
      "5/5 [==============================] - 0s 58ms/step - loss: 0.3650 - acc: 0.8912 - val_loss: 0.4681 - val_acc: 0.7949\n",
      "Epoch 87/100\n",
      "5/5 [==============================] - 0s 59ms/step - loss: 0.3620 - acc: 0.9116 - val_loss: 0.4646 - val_acc: 0.7949\n",
      "Epoch 88/100\n",
      "5/5 [==============================] - 0s 60ms/step - loss: 0.3484 - acc: 0.8980 - val_loss: 0.4655 - val_acc: 0.7949\n",
      "Epoch 89/100\n",
      "5/5 [==============================] - 0s 60ms/step - loss: 0.3517 - acc: 0.8844 - val_loss: 0.4665 - val_acc: 0.7949\n",
      "Epoch 90/100\n",
      "5/5 [==============================] - 0s 58ms/step - loss: 0.3665 - acc: 0.8707 - val_loss: 0.4689 - val_acc: 0.7949\n",
      "Epoch 91/100\n",
      "5/5 [==============================] - 0s 59ms/step - loss: 0.3474 - acc: 0.9116 - val_loss: 0.4661 - val_acc: 0.7949\n",
      "Epoch 92/100\n",
      "5/5 [==============================] - 0s 60ms/step - loss: 0.3606 - acc: 0.8776 - val_loss: 0.4676 - val_acc: 0.7949\n",
      "Epoch 93/100\n",
      "5/5 [==============================] - 0s 58ms/step - loss: 0.3609 - acc: 0.8980 - val_loss: 0.4666 - val_acc: 0.7949\n",
      "Epoch 94/100\n",
      "5/5 [==============================] - 0s 56ms/step - loss: 0.3387 - acc: 0.8980 - val_loss: 0.4645 - val_acc: 0.7949\n",
      "Epoch 95/100\n",
      "5/5 [==============================] - 0s 59ms/step - loss: 0.3518 - acc: 0.9116 - val_loss: 0.4660 - val_acc: 0.7949\n",
      "Epoch 96/100\n",
      "5/5 [==============================] - 0s 59ms/step - loss: 0.3403 - acc: 0.9116 - val_loss: 0.4696 - val_acc: 0.7949\n",
      "Epoch 97/100\n",
      "5/5 [==============================] - 0s 60ms/step - loss: 0.3428 - acc: 0.8844 - val_loss: 0.4724 - val_acc: 0.7949\n",
      "Epoch 98/100\n",
      "5/5 [==============================] - 0s 62ms/step - loss: 0.3213 - acc: 0.9320 - val_loss: 0.4690 - val_acc: 0.7949\n",
      "Epoch 99/100\n",
      "5/5 [==============================] - 0s 58ms/step - loss: 0.3327 - acc: 0.9116 - val_loss: 0.4654 - val_acc: 0.7949\n",
      "Epoch 100/100\n",
      "5/5 [==============================] - 0s 58ms/step - loss: 0.3188 - acc: 0.9048 - val_loss: 0.4651 - val_acc: 0.7949\n"
     ]
    }
   ],
   "source": [
    "batch_size = 30\n",
    "epochs = 100\n",
    "\n",
    "print('Training the model')\n",
    "model = audio_classifier.create(\n",
    "    train_data,\n",
    "    spec,\n",
    "    validation_data,\n",
    "    batch_size=batch_size,\n",
    "    epochs=epochs)"
   ]
  },
  {
   "cell_type": "markdown",
   "metadata": {
    "id": "oXMEHZkAxJTl"
   },
   "source": [
    "The accuracy looks good but it's important to run the evaluation step on the test data and vefify your model achieved good results on unseed data."
   ]
  },
  {
   "cell_type": "markdown",
   "metadata": {
    "id": "xEM1aRNKtvHS"
   },
   "source": []
  },
  {
   "cell_type": "code",
   "execution_count": 13,
   "metadata": {
    "id": "GDoQACMrZnOx"
   },
   "outputs": [
    {
     "name": "stdout",
     "output_type": "stream",
     "text": [
      "Evaluating the model\n",
      "1/1 [==============================] - 2s 2s/step - loss: 0.5566 - acc: 0.6364\n"
     ]
    },
    {
     "data": {
      "text/plain": [
       "[0.5565543174743652, 0.6363636255264282]"
      ]
     },
     "execution_count": 13,
     "metadata": {},
     "output_type": "execute_result"
    }
   ],
   "source": [
    "print('Evaluating the model')\n",
    "model.evaluate(test_data)"
   ]
  },
  {
   "cell_type": "markdown",
   "metadata": {
    "id": "8QRRAM39aOxS"
   },
   "source": [
    "## Understanding your model\n",
    "\n",
    "When training a classifier, it's useful to see the [confusion matrix](https://en.wikipedia.org/wiki/Confusion_matrix). The confusion matrix gives you detailed knowledge of how your classifier is performing on test data.\n",
    "\n",
    "Model Maker already creates the confusion matrix for you."
   ]
  },
  {
   "cell_type": "code",
   "execution_count": 14,
   "metadata": {
    "id": "zqB3c0368iH3"
   },
   "outputs": [
    {
     "data": {
      "image/png": "[encoded data removed]",
      "text/plain": [
       "<Figure size 432x288 with 2 Axes>"
      ]
     },
     "metadata": {
      "needs_background": "light"
     },
     "output_type": "display_data"
    }
   ],
   "source": [
    "def show_confusion_matrix(confusion, test_labels):\n",
    "  \"\"\"Compute confusion matrix and normalize.\"\"\"\n",
    "  confusion_normalized = confusion.astype(\"float\") / confusion.sum(axis=1)\n",
    "  axis_labels = test_labels\n",
    "  ax = sns.heatmap(\n",
    "      confusion_normalized, xticklabels=axis_labels, yticklabels=axis_labels,\n",
    "      cmap='Blues', annot=True, fmt='.2f', square=True)\n",
    "  plt.title(\"Confusion matrix\")\n",
    "  plt.ylabel(\"True label\")\n",
    "  plt.xlabel(\"Predicted label\")\n",
    "\n",
    "confusion_matrix = model.confusion_matrix(test_data)\n",
    "show_confusion_matrix(confusion_matrix.numpy(), test_data.index_to_label)"
   ]
  },
  {
   "cell_type": "markdown",
   "metadata": {
    "id": "7gr1s7juBy7H"
   },
   "source": [
    "## Testing the model [Optional]\n",
    "\n",
    "You can try the model on a sample audio from the test dataset just to see the results.\n",
    "\n",
    "First you get the serving model."
   ]
  },
  {
   "cell_type": "code",
   "execution_count": 15,
   "metadata": {
    "id": "PmlmTl42Bq_u"
   },
   "outputs": [
    {
     "name": "stdout",
     "output_type": "stream",
     "text": [
      "Model's input shape and type: [<KerasTensor: shape=(None, 15600) dtype=float32 (created by layer 'audio')>]\n",
      "Model's output shape and type: [<KerasTensor: shape=(None, 521) dtype=float32 (created by layer 'keras_layer')>, <KerasTensor: shape=(None, 5) dtype=float32 (created by layer 'sequential')>]\n"
     ]
    }
   ],
   "source": [
    "serving_model = model.create_serving_model()\n",
    "\n",
    "print(f'Model\\'s input shape and type: {serving_model.inputs}')\n",
    "print(f'Model\\'s output shape and type: {serving_model.outputs}')"
   ]
  },
  {
   "cell_type": "markdown",
   "metadata": {
    "id": "eQsZFO2mrYhx"
   },
   "source": [
    "Coming back to the random audio you loaded earlier"
   ]
  },
  {
   "cell_type": "code",
   "execution_count": 16,
   "metadata": {
    "id": "8dv5ViK0reXc"
   },
   "outputs": [
    {
     "name": "stdout",
     "output_type": "stream",
     "text": [
      "heart sound name: Murmur\n",
      "heart sound code: Atraining_murmur\n"
     ]
    },
    {
     "data": {
      "image/png": "[encoded data removed]",
      "text/plain": [
       "<Figure size 432x288 with 1 Axes>"
      ]
     },
     "metadata": {
      "needs_background": "light"
     },
     "output_type": "display_data"
    }
   ],
   "source": [
    "# if you want to try another file just uncoment the line below\n",
    "random_audio = get_random_audio_file()\n",
    "show_heart_data(random_audio)"
   ]
  },
  {
   "cell_type": "markdown",
   "metadata": {
    "id": "uixOfKSUj_9m"
   },
   "source": [
    "The model created has a fixed input window. \n",
    "\n",
    "For a given audio file, you'll have to split it in windows of data of the expected size. The last window might need to be filled with zeros."
   ]
  },
  {
   "cell_type": "code",
   "execution_count": 17,
   "metadata": {
    "id": "YAvGKQL0lNty"
   },
   "outputs": [
    {
     "name": "stdout",
     "output_type": "stream",
     "text": [
      "Test audio path: .\\audio_dataset\\output\\test\\Atraining_murmur\\201106141148.wav\n",
      "Original size of the audio data: 263126\n",
      "Number of windows for inference: 17\n"
     ]
    }
   ],
   "source": [
    "sample_rate, audio_data = wavfile.read(random_audio, 'rb')\n",
    "\n",
    "audio_data = np.array(audio_data) / tf.int16.max\n",
    "input_size = serving_model.input_shape[1]\n",
    "\n",
    "splitted_audio_data = tf.signal.frame(audio_data, input_size, input_size, pad_end=True, pad_value=0)\n",
    "\n",
    "print(f'Test audio path: {random_audio}')\n",
    "print(f'Original size of the audio data: {len(audio_data)}')\n",
    "print(f'Number of windows for inference: {len(splitted_audio_data)}')"
   ]
  },
  {
   "cell_type": "markdown",
   "metadata": {
    "id": "PLxKd0eFkMcR"
   },
   "source": [
    "You'll loop over all the splitted audio and apply the model for each one of them.\n",
    "\n",
    "The model you've just trained has 2 outputs: The original YAMNet's output and the one you've just trained. This is important because the real world environment is more complicated than just bird sounds. You can use the YAMNet's output to filter out non relevant audio, for example, on the birds use case, if YAMNet is not classifying Birds or Animals, this might show that the output from your model might have an irrelevant classification.\n",
    "\n",
    "\n",
    "Below both outpus are printed to make it easier to understand their relation. Most of the mistakes that your model make are when YAMNet's prediction is not related to your domain (eg: birds)."
   ]
  },
  {
   "cell_type": "code",
   "execution_count": 18,
   "metadata": {
    "id": "4-8fJLrxGwYT"
   },
   "outputs": [
    {
     "name": "stdout",
     "output_type": "stream",
     "text": [
      ".\\audio_dataset\\output\\test\\Atraining_murmur\\201106141148.wav\n",
      "Result of the window ith:  your model class -> score,  (spec class -> score)\n",
      "Result of the window 0: \tAtraining_extrahls -> 0.595, \t(Heart sounds, heartbeat -> 0.881)\n",
      "Result of the window 1: \tAtraining_artifact -> 0.721, \t(Silence -> 0.632)\n",
      "Result of the window 2: \tAtraining_extrahls -> 0.310, \t(Rowboat, canoe, kayak -> 0.328)\n",
      "Result of the window 3: \tAtraining_artifact -> 0.728, \t(Silence -> 0.402)\n",
      "Result of the window 4: \tBtraining_extrastole -> 0.289, \t(Rowboat, canoe, kayak -> 0.214)\n",
      "Result of the window 5: \tAtraining_artifact -> 0.724, \t(Silence -> 0.911)\n",
      "Result of the window 6: \tAtraining_normal -> 0.595, \t(Heart sounds, heartbeat -> 0.625)\n",
      "Result of the window 7: \tAtraining_extrahls -> 0.522, \t(Heart sounds, heartbeat -> 0.942)\n",
      "Result of the window 8: \tAtraining_artifact -> 0.793, \t(Silence -> 0.455)\n",
      "Result of the window 9: \tAtraining_extrahls -> 0.402, \t(Heart sounds, heartbeat -> 0.703)\n",
      "Result of the window 10: \tAtraining_artifact -> 0.661, \t(Silence -> 0.655)\n",
      "Result of the window 11: \tAtraining_artifact -> 0.455, \t(Silence -> 0.320)\n",
      "Result of the window 12: \tAtraining_extrahls -> 0.367, \t(Heart sounds, heartbeat -> 0.279)\n",
      "Result of the window 13: \tAtraining_artifact -> 0.382, \t(Outside, rural or natural -> 0.181)\n",
      "Result of the window 14: \tAtraining_extrahls -> 0.499, \t(Heart sounds, heartbeat -> 0.977)\n",
      "Result of the window 15: \tAtraining_murmur -> 0.396, \t(Animal -> 0.381)\n",
      "Result of the window 16: \tAtraining_normal -> 0.404, \t(Heart sounds, heartbeat -> 0.645)\n",
      "Mean result: Atraining_artifact -> 0.3138517439365387\n"
     ]
    }
   ],
   "source": [
    "print(random_audio)\n",
    "\n",
    "results = []\n",
    "print('Result of the window ith:  your model class -> score,  (spec class -> score)')\n",
    "for i, data in enumerate(splitted_audio_data):\n",
    "  yamnet_output, inference = serving_model(data)\n",
    "  results.append(inference[0].numpy())\n",
    "  result_index = tf.argmax(inference[0])\n",
    "  spec_result_index = tf.argmax(yamnet_output[0])\n",
    "  t = spec._yamnet_labels()[spec_result_index]\n",
    "  result_str = f'Result of the window {i}: ' \\\n",
    "  f'\\t{test_data.index_to_label[result_index]} -> {inference[0][result_index].numpy():.3f}, ' \\\n",
    "  f'\\t({spec._yamnet_labels()[spec_result_index]} -> {yamnet_output[0][spec_result_index]:.3f})'\n",
    "  print(result_str)\n",
    "\n",
    "\n",
    "results_np = np.array(results)\n",
    "mean_results = results_np.mean(axis=0)\n",
    "result_index = mean_results.argmax()\n",
    "print(f'Mean result: {test_data.index_to_label[result_index]} -> {mean_results[result_index]}')"
   ]
  },
  {
   "cell_type": "markdown",
   "metadata": {
    "id": "yASrikBgZ9ZO"
   },
   "source": [
    "## Exporting the model\n",
    "\n",
    "The last step is exporting your model to be used on embedded devices or on the browser.\n",
    "\n",
    "The `export` method export both formats for you."
   ]
  },
  {
   "cell_type": "code",
   "execution_count": 19,
   "metadata": {
    "id": "Xw_ehPxAdQlz"
   },
   "outputs": [
    {
     "name": "stdout",
     "output_type": "stream",
     "text": [
      "Exporing the TFLite model to ./heart_models\n",
      "INFO:tensorflow:Assets written to: C:\\Users\\Jonathan\\AppData\\Local\\Temp\\tmpq8jtmdqc\\assets\n"
     ]
    },
    {
     "name": "stderr",
     "output_type": "stream",
     "text": [
      "INFO:tensorflow:Assets written to: C:\\Users\\Jonathan\\AppData\\Local\\Temp\\tmpq8jtmdqc\\assets\n"
     ]
    },
    {
     "name": "stdout",
     "output_type": "stream",
     "text": [
      "INFO:tensorflow:TensorFlow Lite model exported successfully: ./heart_models\\heart_sound_model.tflite\n"
     ]
    },
    {
     "name": "stderr",
     "output_type": "stream",
     "text": [
      "INFO:tensorflow:TensorFlow Lite model exported successfully: ./heart_models\\heart_sound_model.tflite\n"
     ]
    }
   ],
   "source": [
    "models_path = './heart_models'\n",
    "print(f'Exporing the TFLite model to {models_path}')\n",
    "\n",
    "model.export(models_path, tflite_filename='heart_sound_model.tflite')"
   ]
  },
  {
   "cell_type": "markdown",
   "metadata": {
    "id": "jjZRKmurA3y_"
   },
   "source": [
    "You can also export the SavedModel version for serving or using on a Python environment."
   ]
  },
  {
   "cell_type": "code",
   "execution_count": null,
   "metadata": {
    "id": "veBwppOsA-kn"
   },
   "outputs": [],
   "source": [
    "model.export(models_path, export_format=[mm.ExportFormat.SAVED_MODEL, mm.ExportFormat.LABEL])"
   ]
  },
  {
   "cell_type": "markdown",
   "metadata": {
    "id": "5xr0idac6xfi"
   },
   "source": [
    "## Next Steps\n",
    "\n",
    "You did it.\n",
    "\n",
    "Now your new model can be deployed on  mobile devices using [TFLite Audio Tasks API](https://www.tensorflow.org/lite/inference_with_metadata/task_library/overview).\n",
    "\n",
    "You can also try the same process with your own data with different classes and here is the documentation for [Model Maker for Audio Classification](https://www.tensorflow.org/lite/api_docs/python/tflite_model_maker/audio_classifier).\n",
    "\n",
    "This notebook is part of the [ODML Learning path: Customizing an Audio Model](https://codelabs.developers.google.com/codelabs/tflite-audio-classification-custom-model-android). If you need more information follow the rest of the codelabs to have a clear understanding on how to use Machine Learning for Audio Classification.\n",
    "\n",
    "For more information about Model Maker for Audio Classification"
   ]
  }
 ],
 "metadata": {
  "accelerator": "GPU",
  "colab": {
   "collapsed_sections": [],
   "name": "[learning_path] model-maker-audio-colab.ipynb",
   "private_outputs": true,
   "provenance": [],
   "toc_visible": true
  },
  "kernelspec": {
   "display_name": "Python 3",
   "language": "python",
   "name": "python3"
  },
  "language_info": {
   "codemirror_mode": {
    "name": "ipython",
    "version": 3
   },
   "file_extension": ".py",
   "mimetype": "text/x-python",
   "name": "python",
   "nbconvert_exporter": "python",
   "pygments_lexer": "ipython3",
   "version": "3.7.4"
  }
 },
 "nbformat": 4,
 "nbformat_minor": 1
}
