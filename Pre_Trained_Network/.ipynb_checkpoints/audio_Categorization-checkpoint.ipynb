{
 "cells": [
  {
   "cell_type": "markdown",
   "metadata": {},
   "source": [
    "IMPORT"
   ]
  },
  {
   "cell_type": "code",
   "execution_count": 1,
   "metadata": {},
   "outputs": [],
   "source": [
    "import splitfolders\n",
    "import wave\n"
   ]
  },
  {
   "cell_type": "code",
   "execution_count": 2,
   "metadata": {},
   "outputs": [
    {
     "name": "stderr",
     "output_type": "stream",
     "text": [
      "Copying files: 517 files [00:07, 71.97 files/s] \n"
     ]
    }
   ],
   "source": [
    "#Split des données aux labels connus pour créer un train_set et un validation_set\n",
    "splitfolders.ratio('./Data/Known_datas',output=\"./Data/Train\",seed=1337,ratio=(.6,.2,.2))"
   ]
  },
  {
   "cell_type": "code",
   "execution_count": 13,
   "metadata": {},
   "outputs": [
    {
     "name": "stdout",
     "output_type": "stream",
     "text": [
      "Framerate = 44100\n",
      "Channel = 1\n",
      "Sample = 2\n"
     ]
    }
   ],
   "source": [
    "with wave.open('./Data/Train/train/Artifact/201106031558.wav') as wavefile:\n",
    "    framerate = wavefile.getframerate()\n",
    "    channel = wavefile.getnchannels()\n",
    "    sample = wavefile.getsampwidth()\n",
    "    print(\"Framerate = \"+str(framerate))\n",
    "    print(\"Channel = \"+str(channel))\n",
    "    print(\"Sample = \"+str(sample))\n"
   ]
  },
  {
   "cell_type": "code",
   "execution_count": null,
   "metadata": {},
   "outputs": [],
   "source": []
  }
 ],
 "metadata": {
  "interpreter": {
   "hash": "e67c57c2164f0d1a4b23ea8a1a6f35ed29afd7c54e555be344821e3f71753684"
  },
  "kernelspec": {
   "display_name": "Python 3",
   "language": "python",
   "name": "python3"
  },
  "language_info": {
   "codemirror_mode": {
    "name": "ipython",
    "version": 3
   },
   "file_extension": ".py",
   "mimetype": "text/x-python",
   "name": "python",
   "nbconvert_exporter": "python",
   "pygments_lexer": "ipython3",
   "version": "3.7.4"
  }
 },
 "nbformat": 4,
 "nbformat_minor": 2
}
